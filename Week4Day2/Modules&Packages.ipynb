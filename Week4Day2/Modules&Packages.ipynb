{
 "cells": [
  {
   "cell_type": "markdown",
   "metadata": {},
   "source": [
    "# Modules and import\n",
    "\n",
    "## What is a module?\n",
    "> Modules in Python are simply Python files with the **.py** extension, which implement a set of functions. Modules are imported from other modules using the **import** command. \n",
    "\n",
    "> The first time a module is loaded into a running Python script, it is initialized by executing the code in the module once. If another module in your code imports the same module again, it will not be loaded twice but once only - so local variables inside the module act as a \"singleton\" - they are initialized only once.\n",
    "\n",
    "\n",
    "### Two kind modules:-\n",
    "1. Build in Module or Pre_defined Modules         # Example:- math, sys, random\n",
    "2. User Defined Module"
   ]
  },
  {
   "cell_type": "code",
   "execution_count": 10,
   "metadata": {},
   "outputs": [
    {
     "name": "stdout",
     "output_type": "stream",
     "text": [
      "6\n"
     ]
    },
    {
     "data": {
      "text/plain": [
       "['C:\\\\Python\\\\June_Batch\\\\Week4Day2',\n",
       " 'c:\\\\program files (x86)\\\\python\\\\python37.zip',\n",
       " 'c:\\\\program files (x86)\\\\python\\\\DLLs',\n",
       " 'c:\\\\program files (x86)\\\\python\\\\lib',\n",
       " 'c:\\\\program files (x86)\\\\python',\n",
       " '',\n",
       " 'c:\\\\program files (x86)\\\\python\\\\lib\\\\site-packages',\n",
       " 'c:\\\\program files (x86)\\\\python\\\\lib\\\\site-packages\\\\IPython\\\\extensions',\n",
       " 'C:\\\\Users\\\\admin\\\\.ipython']"
      ]
     },
     "execution_count": 10,
     "metadata": {},
     "output_type": "execute_result"
    }
   ],
   "source": [
    "# Some User Defined Madule:- use the import key for other modules \n",
    "\n",
    "import math\n",
    "\n",
    "dir(math)\n",
    "print(math.factorial(3))\n",
    "# help(math)\n",
    "\n",
    "import sys\n",
    "sys.path\n",
    "\n"
   ]
  },
  {
   "cell_type": "code",
   "execution_count": 1,
   "metadata": {},
   "outputs": [
    {
     "data": {
      "text/plain": [
       "['C:\\\\Python\\\\June_Batch\\\\Week4Day2',\n",
       " 'C:\\\\Python\\\\June_Batch',\n",
       " 'c:\\\\program files (x86)\\\\python\\\\python37.zip',\n",
       " 'c:\\\\program files (x86)\\\\python\\\\DLLs',\n",
       " 'c:\\\\program files (x86)\\\\python\\\\lib',\n",
       " 'c:\\\\program files (x86)\\\\python',\n",
       " '',\n",
       " 'c:\\\\program files (x86)\\\\python\\\\lib\\\\site-packages',\n",
       " 'c:\\\\program files (x86)\\\\python\\\\lib\\\\site-packages\\\\IPython\\\\extensions',\n",
       " 'C:\\\\Users\\\\admin\\\\.ipython']"
      ]
     },
     "execution_count": 1,
     "metadata": {},
     "output_type": "execute_result"
    }
   ],
   "source": [
    "import sys\n",
    "\n",
    "sys.path"
   ]
  },
  {
   "cell_type": "code",
   "execution_count": null,
   "metadata": {},
   "outputs": [],
   "source": []
  }
 ],
 "metadata": {
  "kernelspec": {
   "display_name": "Python 3",
   "language": "python",
   "name": "python3"
  },
  "language_info": {
   "codemirror_mode": {
    "name": "ipython",
    "version": 3
   },
   "file_extension": ".py",
   "mimetype": "text/x-python",
   "name": "python",
   "nbconvert_exporter": "python",
   "pygments_lexer": "ipython3",
   "version": "3.7.3"
  }
 },
 "nbformat": 4,
 "nbformat_minor": 2
}

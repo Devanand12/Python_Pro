{
 "cells": [
  {
   "cell_type": "markdown",
   "metadata": {},
   "source": [
    "# What is Numpy? \n",
    "> is stands for Numerical Python. It's the foundational package for mathematical computing. Mathemetical and logical opetation on arrays. Operation related to linear algebra. Numpy has in-built functions for linear algebra and random number generation. ndarray is core object in NumPy.\n",
    "\n",
    "## Basic ndarray:- \n",
    "> * Multidimensinal Array\n",
    "* Homogeneous collection of values.\n",
    "* Fast and efficient\n",
    "* Support for mathematical functions\n",
    "* Primary container for data exchange between python algorithms.\n",
    "\n",
    "## Important attributes of an ndarray object are:\n",
    "> * **ndarray.ndim:-** the number of axes(dimensions) of the array, the number of dimensions is referred to as rank.\n",
    "* **ndarray.shape:-** the dimensions of the array. This is a tuple of integers indicating the size of the array in each dimension. For a matrix with n rows and m columns, shape will be (m,n)\n",
    "* **ndarray.size:-** the total number of elements of the array. This is equal to product of the elements of the shape.\n",
    "* **ndarray.dtype:-** an object describing the type of the elements in the array."
   ]
  },
  {
   "cell_type": "code",
   "execution_count": 28,
   "metadata": {},
   "outputs": [],
   "source": [
    "# Load numpy library:- \n",
    "import numpy as np"
   ]
  },
  {
   "cell_type": "markdown",
   "metadata": {},
   "source": [
    "# How to create arrays in NumPy:- Create numpy array from Python List:- \n",
    "* We can create numpy arrays from regular Python list or tuples. Data type for resulting array is deduced from type of elements in the sequence."
   ]
  },
  {
   "cell_type": "code",
   "execution_count": 29,
   "metadata": {},
   "outputs": [
    {
     "data": {
      "text/plain": [
       "array([5, 4, 3, 2, 1])"
      ]
     },
     "execution_count": 29,
     "metadata": {},
     "output_type": "execute_result"
    }
   ],
   "source": [
    "# List to numpy array\n",
    "lst = [5, 4, 3, 2, 1]\n",
    "type(lst)\n",
    "np_ar = np.array(lst)\n",
    "type(np_ar)\n",
    "np_ar\n"
   ]
  },
  {
   "cell_type": "code",
   "execution_count": 30,
   "metadata": {},
   "outputs": [
    {
     "data": {
      "text/plain": [
       "array([[1, 2],\n",
       "       [3, 4],\n",
       "       [5, 6]])"
      ]
     },
     "execution_count": 30,
     "metadata": {},
     "output_type": "execute_result"
    }
   ],
   "source": [
    "# numpy matrix to numpy array\n",
    "m = np.mat('1 2; 3 4; 5 6')\n",
    "# m\n",
    "np.array(m)"
   ]
  },
  {
   "cell_type": "markdown",
   "metadata": {},
   "source": [
    "## Type casting:- "
   ]
  },
  {
   "cell_type": "code",
   "execution_count": 37,
   "metadata": {},
   "outputs": [
    {
     "data": {
      "text/plain": [
       "array([1., 3., 5.])"
      ]
     },
     "execution_count": 37,
     "metadata": {},
     "output_type": "execute_result"
    }
   ],
   "source": [
    "lst = [1, 3, 5.0]\n",
    "lst\n",
    "np.array(lst)"
   ]
  },
  {
   "cell_type": "markdown",
   "metadata": {},
   "source": [
    "## Type Precedence:- \n",
    "* bool\n",
    "* Int\n",
    "* Float\n",
    "* String"
   ]
  },
  {
   "cell_type": "code",
   "execution_count": 46,
   "metadata": {},
   "outputs": [
    {
     "name": "stdout",
     "output_type": "stream",
     "text": [
      "[1. 3. 5.]\n",
      "['1' '3' '5.0']\n",
      "['12' '67' 'Go']\n"
     ]
    }
   ],
   "source": [
    "# If you want to convert specific data type:- \n",
    "print(np.array(lst, dtype=float))\n",
    "print(np.array(lst, dtype='U'))                    # Unicode - is type of String\n",
    "print(np.array([1234, 678, 'Gopi'], dtype='<U2'))  # Unicdoe - is type of String also we can limit the character."
   ]
  },
  {
   "cell_type": "markdown",
   "metadata": {},
   "source": [
    "# Available Data Types:- \n",
    "\n"
   ]
  }
 ],
 "metadata": {
  "kernelspec": {
   "display_name": "Python 3",
   "language": "python",
   "name": "python3"
  },
  "language_info": {
   "codemirror_mode": {
    "name": "ipython",
    "version": 3
   },
   "file_extension": ".py",
   "mimetype": "text/x-python",
   "name": "python",
   "nbconvert_exporter": "python",
   "pygments_lexer": "ipython3",
   "version": "3.7.3"
  }
 },
 "nbformat": 4,
 "nbformat_minor": 2
}
